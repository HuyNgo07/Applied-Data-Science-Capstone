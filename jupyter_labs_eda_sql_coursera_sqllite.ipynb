{
  "cells": [
    {
      "cell_type": "markdown",
      "metadata": {
        "id": "62f5e5fc-c21f-4a5b-8e79-5ad7c2c32331"
      },
      "source": [
        "<p style=\"text-align:center\">\n",
        "    <a href=\"https://skills.network/?utm_medium=Exinfluencer&utm_source=Exinfluencer&utm_content=000026UJ&utm_term=10006555&utm_id=NA-SkillsNetwork-Channel-SkillsNetworkCoursesIBMDS0321ENSkillsNetwork865-2022-01-01\" target=\"_blank\">\n",
        "    <img src=\"https://cf-courses-data.s3.us.cloud-object-storage.appdomain.cloud/assets/logos/SN_web_lightmode.png\" width=\"200\" alt=\"Skills Network Logo\"  />\n",
        "    </a>\n",
        "</p>\n",
        "\n",
        "<h1 align=center><font size = 5>Assignment: SQL Notebook for Peer Assignment</font></h1>\n",
        "\n",
        "Estimated time needed: **60** minutes.\n",
        "\n",
        "## Introduction\n",
        "Using this Python notebook you will:\n",
        "\n",
        "1.  Understand the Spacex DataSet\n",
        "2.  Load the dataset  into the corresponding table in a Db2 database\n",
        "3.  Execute SQL queries to answer assignment questions\n"
      ]
    },
    {
      "cell_type": "markdown",
      "metadata": {
        "id": "28b87e78-66b4-42a6-bc76-a8c3e9122b81"
      },
      "source": [
        "## Overview of the DataSet\n",
        "\n",
        "SpaceX has gained worldwide attention for a series of historic milestones.\n",
        "\n",
        "It is the only private company ever to return a spacecraft from low-earth orbit, which it first accomplished in December 2010.\n",
        "SpaceX advertises Falcon 9 rocket launches on its website with a cost of 62 million dollars wheras other providers cost upward of 165 million dollars each, much of the savings is because Space X can reuse the first stage.\n",
        "\n",
        "\n",
        "Therefore if we can determine if the first stage will land, we can determine the cost of a launch.\n",
        "\n",
        "This information can be used if an alternate company wants to bid against SpaceX for a rocket launch.\n",
        "\n",
        "This dataset includes a record for each payload carried during a SpaceX mission into outer space.\n"
      ]
    },
    {
      "cell_type": "markdown",
      "metadata": {
        "id": "ffe8c135-38dc-4e01-9956-5f5bc504f285"
      },
      "source": [
        "### Download the datasets\n",
        "\n",
        "This assignment requires you to load the spacex dataset.\n",
        "\n",
        "In many cases the dataset to be analyzed is available as a .CSV (comma separated values) file, perhaps on the internet. Click on the link below to download and save the dataset (.CSV file):\n",
        "\n",
        " <a href=\"https://cf-courses-data.s3.us.cloud-object-storage.appdomain.cloud/IBM-DS0321EN-SkillsNetwork/labs/module_2/data/Spacex.csv\" target=\"_blank\">Spacex DataSet</a>\n",
        "\n"
      ]
    },
    {
      "cell_type": "code",
      "metadata": {
        "id": "c00de771-8c83-4dc5-8592-fa6178faeeae",
        "colab": {
          "base_uri": "https://localhost:8080/"
        },
        "outputId": "4e05220d-70de-4338-9dfc-a2cbab325834"
      },
      "outputs": [
        {
          "output_type": "stream",
          "name": "stdout",
          "text": [
            "Looking in indexes: https://pypi.org/simple, https://us-python.pkg.dev/colab-wheels/public/simple/\n",
            "Requirement already satisfied: sqlalchemy==1.3.9 in /usr/local/lib/python3.10/dist-packages (1.3.9)\n"
          ]
        }
      ],
      "source": [
        "!pip install sqlalchemy==1.3.9\n"
      ],
      "execution_count": 43
    },
    {
      "cell_type": "markdown",
      "metadata": {
        "id": "21bfcb4f-176e-40d8-a398-4de8fd56d2f3"
      },
      "source": [
        "### Connect to the database\n",
        "\n",
        "Let us first load the SQL extension and establish a connection with the database\n"
      ]
    },
    {
      "cell_type": "code",
      "metadata": {
        "id": "fcb6ec57-e566-49bc-921f-83c4fa2046d0",
        "colab": {
          "base_uri": "https://localhost:8080/"
        },
        "outputId": "47073a09-0af9-4871-91dc-d078ddb6cc6b"
      },
      "outputs": [
        {
          "output_type": "stream",
          "name": "stdout",
          "text": [
            "The sql extension is already loaded. To reload it, use:\n",
            "  %reload_ext sql\n"
          ]
        }
      ],
      "source": [
        "%load_ext sql"
      ],
      "execution_count": 44
    },
    {
      "cell_type": "code",
      "metadata": {
        "id": "6e472564-b81a-4ab7-9f81-8a887f99e46f"
      },
      "outputs": [],
      "source": [
        "import csv, sqlite3\n",
        "\n",
        "con = sqlite3.connect(\"my_data1.db\")\n",
        "cur = con.cursor()"
      ],
      "execution_count": 45
    },
    {
      "cell_type": "code",
      "metadata": {
        "id": "6c405952-7668-42cd-8f1d-359b527d0575"
      },
      "outputs": [],
      "source": [
        "%sql sqlite:///my_data1.db"
      ],
      "execution_count": 46
    },
    {
      "cell_type": "code",
      "metadata": {
        "id": "2717bc34-beac-4bd7-a89e-c4a41e8157f8",
        "colab": {
          "base_uri": "https://localhost:8080/"
        },
        "outputId": "b0b24872-509e-4ce0-ca8e-02001d13679a"
      },
      "outputs": [
        {
          "output_type": "execute_result",
          "data": {
            "text/plain": [
              "999"
            ]
          },
          "metadata": {},
          "execution_count": 47
        }
      ],
      "source": [
        "import pandas as pd\n",
        "df = pd.read_csv(\"https://cf-courses-data.s3.us.cloud-object-storage.appdomain.cloud/IBM-DS0321EN-SkillsNetwork/labs/module_2/data/Spacex.csv\")\n",
        "df.to_sql(\"SPACEXTBL\", con, if_exists='replace', index=False,method=\"multi\")"
      ],
      "execution_count": 47
    },
    {
      "cell_type": "markdown",
      "metadata": {
        "id": "aeb3df77-52db-4f77-90a0-bbf6760b1125"
      },
      "source": [
        "## Tasks\n",
        "\n",
        "Now write and execute SQL queries to solve the assignment tasks.\n",
        "\n",
        "**Note: If the column names are in mixed case enclose it in double quotes\n",
        "   For Example \"Landing_Outcome\"**\n",
        "\n",
        "### Task 1\n",
        "\n",
        "\n",
        "\n",
        "\n",
        "##### Display the names of the unique launch sites  in the space mission\n"
      ]
    },
    {
      "cell_type": "code",
      "metadata": {
        "id": "064f242f-3e91-4990-9f3c-131f1f60cec3",
        "colab": {
          "base_uri": "https://localhost:8080/",
          "height": 179
        },
        "outputId": "d1a8de32-9642-4045-eeb9-dc675c2a5c71"
      },
      "outputs": [
        {
          "output_type": "stream",
          "name": "stdout",
          "text": [
            " * sqlite:///my_data1.db\n",
            "Done.\n"
          ]
        },
        {
          "output_type": "execute_result",
          "data": {
            "text/plain": [
              "[('CCAFS LC-40',),\n",
              " ('VAFB SLC-4E',),\n",
              " ('KSC LC-39A',),\n",
              " ('CCAFS SLC-40',),\n",
              " (None,)]"
            ],
            "text/html": [
              "<table>\n",
              "    <tr>\n",
              "        <th>Launch_Site</th>\n",
              "    </tr>\n",
              "    <tr>\n",
              "        <td>CCAFS LC-40</td>\n",
              "    </tr>\n",
              "    <tr>\n",
              "        <td>VAFB SLC-4E</td>\n",
              "    </tr>\n",
              "    <tr>\n",
              "        <td>KSC LC-39A</td>\n",
              "    </tr>\n",
              "    <tr>\n",
              "        <td>CCAFS SLC-40</td>\n",
              "    </tr>\n",
              "    <tr>\n",
              "        <td>None</td>\n",
              "    </tr>\n",
              "</table>"
            ]
          },
          "metadata": {},
          "execution_count": 48
        }
      ],
      "source": [
        "%sql SELECT DISTINCT Launch_Site FROM SPACEXTBL"
      ],
      "execution_count": 48
    },
    {
      "cell_type": "markdown",
      "metadata": {
        "id": "6ad3ca6d-02c4-47cc-bcb6-b2f375e29f14"
      },
      "source": [
        "\n",
        "### Task 2\n",
        "\n",
        "\n",
        "#####  Display 5 records where launch sites begin with the string 'CCA'\n"
      ]
    },
    {
      "cell_type": "code",
      "metadata": {
        "id": "c8b96954-f622-40f1-afa5-d242dd0151b4",
        "colab": {
          "base_uri": "https://localhost:8080/",
          "height": 179
        },
        "outputId": "4443276a-a287-44a9-b632-ee4b04e6dded"
      },
      "outputs": [
        {
          "output_type": "stream",
          "name": "stdout",
          "text": [
            " * sqlite:///my_data1.db\n",
            "Done.\n"
          ]
        },
        {
          "output_type": "execute_result",
          "data": {
            "text/plain": [
              "[('06/04/2010', '18:45:00', 'F9 v1.0  B0003', 'CCAFS LC-40', 'Dragon Spacecraft Qualification Unit', 0.0, 'LEO', 'SpaceX', 'Success', 'Failure (parachute)'),\n",
              " ('12/08/2010', '15:43:00', 'F9 v1.0  B0004', 'CCAFS LC-40', 'Dragon demo flight C1, two CubeSats, barrel of Brouere cheese', 0.0, 'LEO (ISS)', 'NASA (COTS) NRO', 'Success', 'Failure (parachute)'),\n",
              " ('22/05/2012', '7:44:00', 'F9 v1.0  B0005', 'CCAFS LC-40', 'Dragon demo flight C2', 525.0, 'LEO (ISS)', 'NASA (COTS)', 'Success', 'No attempt'),\n",
              " ('10/08/2012', '0:35:00', 'F9 v1.0  B0006', 'CCAFS LC-40', 'SpaceX CRS-1', 500.0, 'LEO (ISS)', 'NASA (CRS)', 'Success', 'No attempt'),\n",
              " ('03/01/2013', '15:10:00', 'F9 v1.0  B0007', 'CCAFS LC-40', 'SpaceX CRS-2', 677.0, 'LEO (ISS)', 'NASA (CRS)', 'Success', 'No attempt')]"
            ],
            "text/html": [
              "<table>\n",
              "    <tr>\n",
              "        <th>Date</th>\n",
              "        <th>Time (UTC)</th>\n",
              "        <th>Booster_Version</th>\n",
              "        <th>Launch_Site</th>\n",
              "        <th>Payload</th>\n",
              "        <th>PAYLOAD_MASS__KG_</th>\n",
              "        <th>Orbit</th>\n",
              "        <th>Customer</th>\n",
              "        <th>Mission_Outcome</th>\n",
              "        <th>Landing_Outcome</th>\n",
              "    </tr>\n",
              "    <tr>\n",
              "        <td>06/04/2010</td>\n",
              "        <td>18:45:00</td>\n",
              "        <td>F9 v1.0  B0003</td>\n",
              "        <td>CCAFS LC-40</td>\n",
              "        <td>Dragon Spacecraft Qualification Unit</td>\n",
              "        <td>0.0</td>\n",
              "        <td>LEO</td>\n",
              "        <td>SpaceX</td>\n",
              "        <td>Success</td>\n",
              "        <td>Failure (parachute)</td>\n",
              "    </tr>\n",
              "    <tr>\n",
              "        <td>12/08/2010</td>\n",
              "        <td>15:43:00</td>\n",
              "        <td>F9 v1.0  B0004</td>\n",
              "        <td>CCAFS LC-40</td>\n",
              "        <td>Dragon demo flight C1, two CubeSats, barrel of Brouere cheese</td>\n",
              "        <td>0.0</td>\n",
              "        <td>LEO (ISS)</td>\n",
              "        <td>NASA (COTS) NRO</td>\n",
              "        <td>Success</td>\n",
              "        <td>Failure (parachute)</td>\n",
              "    </tr>\n",
              "    <tr>\n",
              "        <td>22/05/2012</td>\n",
              "        <td>7:44:00</td>\n",
              "        <td>F9 v1.0  B0005</td>\n",
              "        <td>CCAFS LC-40</td>\n",
              "        <td>Dragon demo flight C2</td>\n",
              "        <td>525.0</td>\n",
              "        <td>LEO (ISS)</td>\n",
              "        <td>NASA (COTS)</td>\n",
              "        <td>Success</td>\n",
              "        <td>No attempt</td>\n",
              "    </tr>\n",
              "    <tr>\n",
              "        <td>10/08/2012</td>\n",
              "        <td>0:35:00</td>\n",
              "        <td>F9 v1.0  B0006</td>\n",
              "        <td>CCAFS LC-40</td>\n",
              "        <td>SpaceX CRS-1</td>\n",
              "        <td>500.0</td>\n",
              "        <td>LEO (ISS)</td>\n",
              "        <td>NASA (CRS)</td>\n",
              "        <td>Success</td>\n",
              "        <td>No attempt</td>\n",
              "    </tr>\n",
              "    <tr>\n",
              "        <td>03/01/2013</td>\n",
              "        <td>15:10:00</td>\n",
              "        <td>F9 v1.0  B0007</td>\n",
              "        <td>CCAFS LC-40</td>\n",
              "        <td>SpaceX CRS-2</td>\n",
              "        <td>677.0</td>\n",
              "        <td>LEO (ISS)</td>\n",
              "        <td>NASA (CRS)</td>\n",
              "        <td>Success</td>\n",
              "        <td>No attempt</td>\n",
              "    </tr>\n",
              "</table>"
            ]
          },
          "metadata": {},
          "execution_count": 49
        }
      ],
      "source": [
        "%sql SELECT * FROM SPACEXTBL WHERE Launch_Site LIKE 'CCA%' LIMIT 5"
      ],
      "execution_count": 49
    },
    {
      "cell_type": "markdown",
      "metadata": {
        "id": "a1245fe9-e9c7-4d3f-8e39-5f0763511ab0"
      },
      "source": [
        "### Task 3\n",
        "\n",
        "\n",
        "\n",
        "\n",
        "##### Display the total payload mass carried by boosters launched by NASA (CRS)\n"
      ]
    },
    {
      "cell_type": "code",
      "metadata": {
        "id": "bca5e349-bd05-4ace-b1c8-9eeea1b46a32",
        "colab": {
          "base_uri": "https://localhost:8080/",
          "height": 95
        },
        "outputId": "0c566b8d-1527-451e-a646-ee1fbe690dfe"
      },
      "outputs": [
        {
          "output_type": "stream",
          "name": "stdout",
          "text": [
            " * sqlite:///my_data1.db\n",
            "Done.\n"
          ]
        },
        {
          "output_type": "execute_result",
          "data": {
            "text/plain": [
              "[(619967.0,)]"
            ],
            "text/html": [
              "<table>\n",
              "    <tr>\n",
              "        <th>total_payload_mass</th>\n",
              "    </tr>\n",
              "    <tr>\n",
              "        <td>619967.0</td>\n",
              "    </tr>\n",
              "</table>"
            ]
          },
          "metadata": {},
          "execution_count": 50
        }
      ],
      "source": [
        "%sql SELECT SUM(PAYLOAD_MASS__KG_) AS total_payload_mass FROM SPACEXTBL"
      ],
      "execution_count": 50
    },
    {
      "cell_type": "markdown",
      "metadata": {
        "id": "68009afe-0c04-408b-a3ea-fccb5a4c2a85"
      },
      "source": [
        "### Task 4\n",
        "\n",
        "\n",
        "\n",
        "\n",
        "##### Display average payload mass carried by booster version F9 v1.1\n"
      ]
    },
    {
      "cell_type": "code",
      "metadata": {
        "id": "c9ab7fe6-b18c-4a77-86b2-61c398c58c43",
        "colab": {
          "base_uri": "https://localhost:8080/",
          "height": 95
        },
        "outputId": "78c7d2f6-b745-40be-add1-26a27e11f735"
      },
      "outputs": [
        {
          "output_type": "stream",
          "name": "stdout",
          "text": [
            " * sqlite:///my_data1.db\n",
            "Done.\n"
          ]
        },
        {
          "output_type": "execute_result",
          "data": {
            "text/plain": [
              "[(2534.6666666666665,)]"
            ],
            "text/html": [
              "<table>\n",
              "    <tr>\n",
              "        <th>avg_payload_mass</th>\n",
              "    </tr>\n",
              "    <tr>\n",
              "        <td>2534.6666666666665</td>\n",
              "    </tr>\n",
              "</table>"
            ]
          },
          "metadata": {},
          "execution_count": 51
        }
      ],
      "source": [
        "%sql SELECT avg(payload_mass__kg_) AS avg_payload_mass FROM SPACEXTBL WHERE booster_version LIKE 'F9 v1.1%'"
      ],
      "execution_count": 51
    },
    {
      "cell_type": "markdown",
      "metadata": {
        "id": "daf51f8c-68ab-4bec-9e00-f0816f7afe69"
      },
      "source": [
        "### Task 5\n",
        "\n",
        "##### List the date when the first succesful landing outcome in ground pad was acheived.\n",
        "\n",
        "\n",
        "_Hint:Use min function_\n"
      ]
    },
    {
      "cell_type": "code",
      "metadata": {
        "id": "ccb7b534-8ad1-47d4-ad4f-fa0d44cb7d7f",
        "colab": {
          "base_uri": "https://localhost:8080/",
          "height": 95
        },
        "outputId": "fc855abd-d968-4265-f95a-ea1eb29324d5"
      },
      "outputs": [
        {
          "output_type": "stream",
          "name": "stdout",
          "text": [
            " * sqlite:///my_data1.db\n",
            "Done.\n"
          ]
        },
        {
          "output_type": "execute_result",
          "data": {
            "text/plain": [
              "[('01/08/2018',)]"
            ],
            "text/html": [
              "<table>\n",
              "    <tr>\n",
              "        <th>min(DATE)</th>\n",
              "    </tr>\n",
              "    <tr>\n",
              "        <td>01/08/2018</td>\n",
              "    </tr>\n",
              "</table>"
            ]
          },
          "metadata": {},
          "execution_count": 52
        }
      ],
      "source": [
        "%sql SELECT min(DATE) FROM SPACEXTBL WHERE Landing_Outcome LIKE 'Success (ground pad)%'"
      ],
      "execution_count": 52
    },
    {
      "cell_type": "markdown",
      "metadata": {
        "id": "f3b0a30d-0c0e-4438-8ec8-94ff0bfa6241"
      },
      "source": [
        "### Task 6\n",
        "\n",
        "##### List the names of the boosters which have success in drone ship and have payload mass greater than 4000 but less than 6000\n"
      ]
    },
    {
      "cell_type": "code",
      "metadata": {
        "id": "a8a46f10-b7c2-4c2c-836a-21e9289107c5",
        "colab": {
          "base_uri": "https://localhost:8080/",
          "height": 158
        },
        "outputId": "1d33daa7-a061-4885-de8a-2c96d40fb541"
      },
      "outputs": [
        {
          "output_type": "stream",
          "name": "stdout",
          "text": [
            " * sqlite:///my_data1.db\n",
            "Done.\n"
          ]
        },
        {
          "output_type": "execute_result",
          "data": {
            "text/plain": [
              "[('05/06/2016', '5:21:00', 'F9 FT B1022', 'CCAFS LC-40', 'JCSAT-14', 4696.0, 'GTO', 'SKY Perfect JSAT Group', 'Success', 'Success (drone ship)'),\n",
              " ('14/08/2016', '5:26:00', 'F9 FT B1026', 'CCAFS LC-40', 'JCSAT-16', 4600.0, 'GTO', 'SKY Perfect JSAT Group', 'Success', 'Success (drone ship)'),\n",
              " ('30/03/2017', '22:27:00', 'F9 FT  B1021.2', 'KSC LC-39A', 'SES-10', 5300.0, 'GTO', 'SES', 'Success', 'Success (drone ship)'),\n",
              " ('10/11/2017', '22:53:00', 'F9 FT  B1031.2', 'KSC LC-39A', 'SES-11 / EchoStar 105', 5200.0, 'GTO', 'SES EchoStar', 'Success', 'Success (drone ship)')]"
            ],
            "text/html": [
              "<table>\n",
              "    <tr>\n",
              "        <th>Date</th>\n",
              "        <th>Time (UTC)</th>\n",
              "        <th>Booster_Version</th>\n",
              "        <th>Launch_Site</th>\n",
              "        <th>Payload</th>\n",
              "        <th>PAYLOAD_MASS__KG_</th>\n",
              "        <th>Orbit</th>\n",
              "        <th>Customer</th>\n",
              "        <th>Mission_Outcome</th>\n",
              "        <th>Landing_Outcome</th>\n",
              "    </tr>\n",
              "    <tr>\n",
              "        <td>05/06/2016</td>\n",
              "        <td>5:21:00</td>\n",
              "        <td>F9 FT B1022</td>\n",
              "        <td>CCAFS LC-40</td>\n",
              "        <td>JCSAT-14</td>\n",
              "        <td>4696.0</td>\n",
              "        <td>GTO</td>\n",
              "        <td>SKY Perfect JSAT Group</td>\n",
              "        <td>Success</td>\n",
              "        <td>Success (drone ship)</td>\n",
              "    </tr>\n",
              "    <tr>\n",
              "        <td>14/08/2016</td>\n",
              "        <td>5:26:00</td>\n",
              "        <td>F9 FT B1026</td>\n",
              "        <td>CCAFS LC-40</td>\n",
              "        <td>JCSAT-16</td>\n",
              "        <td>4600.0</td>\n",
              "        <td>GTO</td>\n",
              "        <td>SKY Perfect JSAT Group</td>\n",
              "        <td>Success</td>\n",
              "        <td>Success (drone ship)</td>\n",
              "    </tr>\n",
              "    <tr>\n",
              "        <td>30/03/2017</td>\n",
              "        <td>22:27:00</td>\n",
              "        <td>F9 FT  B1021.2</td>\n",
              "        <td>KSC LC-39A</td>\n",
              "        <td>SES-10</td>\n",
              "        <td>5300.0</td>\n",
              "        <td>GTO</td>\n",
              "        <td>SES</td>\n",
              "        <td>Success</td>\n",
              "        <td>Success (drone ship)</td>\n",
              "    </tr>\n",
              "    <tr>\n",
              "        <td>10/11/2017</td>\n",
              "        <td>22:53:00</td>\n",
              "        <td>F9 FT  B1031.2</td>\n",
              "        <td>KSC LC-39A</td>\n",
              "        <td>SES-11 / EchoStar 105</td>\n",
              "        <td>5200.0</td>\n",
              "        <td>GTO</td>\n",
              "        <td>SES EchoStar</td>\n",
              "        <td>Success</td>\n",
              "        <td>Success (drone ship)</td>\n",
              "    </tr>\n",
              "</table>"
            ]
          },
          "metadata": {},
          "execution_count": 53
        }
      ],
      "source": [
        "%sql SELECT * FROM SPACEXTBL WHERE payload_mass__kg_ BETWEEN 4000 AND 6000 AND Landing_Outcome LIKE 'Success (drone ship)%'"
      ],
      "execution_count": 53
    },
    {
      "cell_type": "markdown",
      "metadata": {
        "id": "3b2e99ee-3df2-4059-93fd-0397c93e87a1"
      },
      "source": [
        "### Task 7\n",
        "\n",
        "\n",
        "\n",
        "\n",
        "##### List the total number of successful and failure mission outcomes\n"
      ]
    },
    {
      "cell_type": "code",
      "metadata": {
        "id": "33a28c37-4c70-4a2f-a863-c711e5685b29",
        "colab": {
          "base_uri": "https://localhost:8080/",
          "height": 179
        },
        "outputId": "e3f0a457-90b8-492b-9ecd-b33d6ceb3256"
      },
      "outputs": [
        {
          "output_type": "stream",
          "name": "stdout",
          "text": [
            " * sqlite:///my_data1.db\n",
            "Done.\n"
          ]
        },
        {
          "output_type": "execute_result",
          "data": {
            "text/plain": [
              "[(898, None),\n",
              " (1, 'Failure (in flight)'),\n",
              " (98, 'Success'),\n",
              " (1, 'Success '),\n",
              " (1, 'Success (payload status unclear)')]"
            ],
            "text/html": [
              "<table>\n",
              "    <tr>\n",
              "        <th>Total_number</th>\n",
              "        <th>Mission_Outcome</th>\n",
              "    </tr>\n",
              "    <tr>\n",
              "        <td>898</td>\n",
              "        <td>None</td>\n",
              "    </tr>\n",
              "    <tr>\n",
              "        <td>1</td>\n",
              "        <td>Failure (in flight)</td>\n",
              "    </tr>\n",
              "    <tr>\n",
              "        <td>98</td>\n",
              "        <td>Success</td>\n",
              "    </tr>\n",
              "    <tr>\n",
              "        <td>1</td>\n",
              "        <td>Success </td>\n",
              "    </tr>\n",
              "    <tr>\n",
              "        <td>1</td>\n",
              "        <td>Success (payload status unclear)</td>\n",
              "    </tr>\n",
              "</table>"
            ]
          },
          "metadata": {},
          "execution_count": 54
        }
      ],
      "source": [
        "%sql SELECT count(*) AS Total_number, mission_outcome FROM SPACEXTBL GROUP BY mission_outcome"
      ],
      "execution_count": 54
    },
    {
      "cell_type": "markdown",
      "metadata": {
        "id": "660e7f9f-6936-4b84-b419-ca94c04f99e2"
      },
      "source": [
        "### Task 8\n",
        "\n",
        "\n",
        "\n",
        "##### List the   names of the booster_versions which have carried the maximum payload mass. Use a subquery\n"
      ]
    },
    {
      "cell_type": "code",
      "metadata": {
        "id": "c3d08631-cbc4-42f1-aa3a-d68e2edad72c",
        "colab": {
          "base_uri": "https://localhost:8080/",
          "height": 326
        },
        "outputId": "093e9d43-0173-4644-9444-0ba5c90b82ac"
      },
      "outputs": [
        {
          "output_type": "stream",
          "name": "stdout",
          "text": [
            " * sqlite:///my_data1.db\n",
            "Done.\n"
          ]
        },
        {
          "output_type": "execute_result",
          "data": {
            "text/plain": [
              "[('11/11/2019', '14:56:00', 'F9 B5 B1048.4', 'CCAFS SLC-40', 'Starlink 1 v1.0, SpaceX CRS-19 ', 15600.0, 'LEO', 'SpaceX', 'Success', 'Success'),\n",
              " ('01/07/2020', '2:33:00', 'F9 B5 B1049.4', 'CCAFS SLC-40', 'Starlink 2 v1.0, Crew Dragon in-flight abort test ', 15600.0, 'LEO', 'SpaceX', 'Success', 'Success'),\n",
              " ('29/01/2020', '14:07:00', 'F9 B5 B1051.3', 'CCAFS SLC-40', 'Starlink 3 v1.0, Starlink 4 v1.0 ', 15600.0, 'LEO', 'SpaceX', 'Success', 'Success'),\n",
              " ('17/02/2020', '15:05:00', 'F9 B5 B1056.4', 'CCAFS SLC-40', 'Starlink 4 v1.0, SpaceX CRS-20', 15600.0, 'LEO', 'SpaceX', 'Success', 'Failure'),\n",
              " ('18/03/2020', '12:16:00', 'F9 B5 B1048.5', 'KSC LC-39A', 'Starlink 5 v1.0, Starlink 6 v1.0 ', 15600.0, 'LEO', 'SpaceX', 'Success', 'Failure'),\n",
              " ('22/04/2020', '19:30:00', 'F9 B5 B1051.4', 'KSC LC-39A', 'Starlink 6 v1.0, Crew Dragon Demo-2 ', 15600.0, 'LEO', 'SpaceX', 'Success', 'Success'),\n",
              " ('06/04/2020', '1:25:00', 'F9 B5 B1049.5', 'CCAFS SLC-40', 'Starlink 7 v1.0, Starlink 8 v1.0', 15600.0, 'LEO', 'SpaceX, Planet Labs', 'Success', 'Success'),\n",
              " ('09/03/2020', '12:46:14', 'F9 B5 B1060.2 ', 'KSC LC-39A', 'Starlink 11 v1.0, Starlink 12 v1.0 ', 15600.0, 'LEO', 'SpaceX', 'Success', 'Success'),\n",
              " ('10/06/2020', '11:29:34', 'F9 B5 B1058.3 ', 'KSC LC-39A', 'Starlink 12 v1.0, Starlink 13 v1.0 ', 15600.0, 'LEO', 'SpaceX', 'Success', 'Success'),\n",
              " ('18/10/2020', '12:25:57', 'F9 B5 B1051.6', 'KSC LC-39A', 'Starlink 13 v1.0, Starlink 14 v1.0 ', 15600.0, 'LEO', 'SpaceX', 'Success', 'Success'),\n",
              " ('24/10/2020', '15:31:34', 'F9 B5 B1060.3', 'CCAFS SLC-40', 'Starlink 14 v1.0, GPS III-04  ', 15600.0, 'LEO', 'SpaceX', 'Success', 'Success'),\n",
              " ('25/11/2020', '2:13:00', 'F9 B5 B1049.7 ', 'CCAFS SLC-40', 'Starlink 15 v1.0, SpaceX CRS-21', 15600.0, 'LEO', 'SpaceX', 'Success', 'Success')]"
            ],
            "text/html": [
              "<table>\n",
              "    <tr>\n",
              "        <th>Date</th>\n",
              "        <th>Time (UTC)</th>\n",
              "        <th>Booster_Version</th>\n",
              "        <th>Launch_Site</th>\n",
              "        <th>Payload</th>\n",
              "        <th>PAYLOAD_MASS__KG_</th>\n",
              "        <th>Orbit</th>\n",
              "        <th>Customer</th>\n",
              "        <th>Mission_Outcome</th>\n",
              "        <th>Landing_Outcome</th>\n",
              "    </tr>\n",
              "    <tr>\n",
              "        <td>11/11/2019</td>\n",
              "        <td>14:56:00</td>\n",
              "        <td>F9 B5 B1048.4</td>\n",
              "        <td>CCAFS SLC-40</td>\n",
              "        <td>Starlink 1 v1.0, SpaceX CRS-19 </td>\n",
              "        <td>15600.0</td>\n",
              "        <td>LEO</td>\n",
              "        <td>SpaceX</td>\n",
              "        <td>Success</td>\n",
              "        <td>Success</td>\n",
              "    </tr>\n",
              "    <tr>\n",
              "        <td>01/07/2020</td>\n",
              "        <td>2:33:00</td>\n",
              "        <td>F9 B5 B1049.4</td>\n",
              "        <td>CCAFS SLC-40</td>\n",
              "        <td>Starlink 2 v1.0, Crew Dragon in-flight abort test </td>\n",
              "        <td>15600.0</td>\n",
              "        <td>LEO</td>\n",
              "        <td>SpaceX</td>\n",
              "        <td>Success</td>\n",
              "        <td>Success</td>\n",
              "    </tr>\n",
              "    <tr>\n",
              "        <td>29/01/2020</td>\n",
              "        <td>14:07:00</td>\n",
              "        <td>F9 B5 B1051.3</td>\n",
              "        <td>CCAFS SLC-40</td>\n",
              "        <td>Starlink 3 v1.0, Starlink 4 v1.0 </td>\n",
              "        <td>15600.0</td>\n",
              "        <td>LEO</td>\n",
              "        <td>SpaceX</td>\n",
              "        <td>Success</td>\n",
              "        <td>Success</td>\n",
              "    </tr>\n",
              "    <tr>\n",
              "        <td>17/02/2020</td>\n",
              "        <td>15:05:00</td>\n",
              "        <td>F9 B5 B1056.4</td>\n",
              "        <td>CCAFS SLC-40</td>\n",
              "        <td>Starlink 4 v1.0, SpaceX CRS-20</td>\n",
              "        <td>15600.0</td>\n",
              "        <td>LEO</td>\n",
              "        <td>SpaceX</td>\n",
              "        <td>Success</td>\n",
              "        <td>Failure</td>\n",
              "    </tr>\n",
              "    <tr>\n",
              "        <td>18/03/2020</td>\n",
              "        <td>12:16:00</td>\n",
              "        <td>F9 B5 B1048.5</td>\n",
              "        <td>KSC LC-39A</td>\n",
              "        <td>Starlink 5 v1.0, Starlink 6 v1.0 </td>\n",
              "        <td>15600.0</td>\n",
              "        <td>LEO</td>\n",
              "        <td>SpaceX</td>\n",
              "        <td>Success</td>\n",
              "        <td>Failure</td>\n",
              "    </tr>\n",
              "    <tr>\n",
              "        <td>22/04/2020</td>\n",
              "        <td>19:30:00</td>\n",
              "        <td>F9 B5 B1051.4</td>\n",
              "        <td>KSC LC-39A</td>\n",
              "        <td>Starlink 6 v1.0, Crew Dragon Demo-2 </td>\n",
              "        <td>15600.0</td>\n",
              "        <td>LEO</td>\n",
              "        <td>SpaceX</td>\n",
              "        <td>Success</td>\n",
              "        <td>Success</td>\n",
              "    </tr>\n",
              "    <tr>\n",
              "        <td>06/04/2020</td>\n",
              "        <td>1:25:00</td>\n",
              "        <td>F9 B5 B1049.5</td>\n",
              "        <td>CCAFS SLC-40</td>\n",
              "        <td>Starlink 7 v1.0, Starlink 8 v1.0</td>\n",
              "        <td>15600.0</td>\n",
              "        <td>LEO</td>\n",
              "        <td>SpaceX, Planet Labs</td>\n",
              "        <td>Success</td>\n",
              "        <td>Success</td>\n",
              "    </tr>\n",
              "    <tr>\n",
              "        <td>09/03/2020</td>\n",
              "        <td>12:46:14</td>\n",
              "        <td>F9 B5 B1060.2 </td>\n",
              "        <td>KSC LC-39A</td>\n",
              "        <td>Starlink 11 v1.0, Starlink 12 v1.0 </td>\n",
              "        <td>15600.0</td>\n",
              "        <td>LEO</td>\n",
              "        <td>SpaceX</td>\n",
              "        <td>Success</td>\n",
              "        <td>Success</td>\n",
              "    </tr>\n",
              "    <tr>\n",
              "        <td>10/06/2020</td>\n",
              "        <td>11:29:34</td>\n",
              "        <td>F9 B5 B1058.3 </td>\n",
              "        <td>KSC LC-39A</td>\n",
              "        <td>Starlink 12 v1.0, Starlink 13 v1.0 </td>\n",
              "        <td>15600.0</td>\n",
              "        <td>LEO</td>\n",
              "        <td>SpaceX</td>\n",
              "        <td>Success</td>\n",
              "        <td>Success</td>\n",
              "    </tr>\n",
              "    <tr>\n",
              "        <td>18/10/2020</td>\n",
              "        <td>12:25:57</td>\n",
              "        <td>F9 B5 B1051.6</td>\n",
              "        <td>KSC LC-39A</td>\n",
              "        <td>Starlink 13 v1.0, Starlink 14 v1.0 </td>\n",
              "        <td>15600.0</td>\n",
              "        <td>LEO</td>\n",
              "        <td>SpaceX</td>\n",
              "        <td>Success</td>\n",
              "        <td>Success</td>\n",
              "    </tr>\n",
              "    <tr>\n",
              "        <td>24/10/2020</td>\n",
              "        <td>15:31:34</td>\n",
              "        <td>F9 B5 B1060.3</td>\n",
              "        <td>CCAFS SLC-40</td>\n",
              "        <td>Starlink 14 v1.0, GPS III-04  </td>\n",
              "        <td>15600.0</td>\n",
              "        <td>LEO</td>\n",
              "        <td>SpaceX</td>\n",
              "        <td>Success</td>\n",
              "        <td>Success</td>\n",
              "    </tr>\n",
              "    <tr>\n",
              "        <td>25/11/2020</td>\n",
              "        <td>2:13:00</td>\n",
              "        <td>F9 B5 B1049.7 </td>\n",
              "        <td>CCAFS SLC-40</td>\n",
              "        <td>Starlink 15 v1.0, SpaceX CRS-21</td>\n",
              "        <td>15600.0</td>\n",
              "        <td>LEO</td>\n",
              "        <td>SpaceX</td>\n",
              "        <td>Success</td>\n",
              "        <td>Success</td>\n",
              "    </tr>\n",
              "</table>"
            ]
          },
          "metadata": {},
          "execution_count": 55
        }
      ],
      "source": [
        "%sql SELECT * FROM SPACEXTBL WHERE payload_mass__kg_ = (SELECT max(payload_mass__kg_) FROM SPACEXTBL)"
      ],
      "execution_count": 55
    },
    {
      "cell_type": "markdown",
      "metadata": {
        "id": "008f7c68-5946-43c4-9945-1a45e603eb35"
      },
      "source": [
        "### Task 9\n",
        "\n",
        "\n",
        "##### List the records which will display the month names, failure landing_outcomes in drone ship ,booster versions, launch_site for the months in year 2015.\n",
        "\n",
        "**Note: SQLLite does not support monthnames. So you need to use  substr(Date, 4, 2) as month to get the months and substr(Date,7,4)='2015' for year.**\n"
      ]
    },
    {
      "cell_type": "code",
      "metadata": {
        "id": "66c15b1b-da4b-4951-8d7c-ac8df75836fc",
        "colab": {
          "base_uri": "https://localhost:8080/",
          "height": 116
        },
        "outputId": "c2cab5da-ee53-48c1-b1bc-9408a925a096"
      },
      "outputs": [
        {
          "output_type": "stream",
          "name": "stdout",
          "text": [
            " * sqlite:///my_data1.db\n",
            "Done.\n"
          ]
        },
        {
          "output_type": "execute_result",
          "data": {
            "text/plain": [
              "[('10', '01/10/2015', 'F9 v1.1 B1012', 'Failure (drone ship)'),\n",
              " ('04', '14/04/2015', 'F9 v1.1 B1015', 'Failure (drone ship)')]"
            ],
            "text/html": [
              "<table>\n",
              "    <tr>\n",
              "        <th>month</th>\n",
              "        <th>Date</th>\n",
              "        <th>Booster_Version</th>\n",
              "        <th>Landing_Outcome</th>\n",
              "    </tr>\n",
              "    <tr>\n",
              "        <td>10</td>\n",
              "        <td>01/10/2015</td>\n",
              "        <td>F9 v1.1 B1012</td>\n",
              "        <td>Failure (drone ship)</td>\n",
              "    </tr>\n",
              "    <tr>\n",
              "        <td>04</td>\n",
              "        <td>14/04/2015</td>\n",
              "        <td>F9 v1.1 B1015</td>\n",
              "        <td>Failure (drone ship)</td>\n",
              "    </tr>\n",
              "</table>"
            ]
          },
          "metadata": {},
          "execution_count": 56
        }
      ],
      "source": [
        "%sql SELECT substr(Date,4,2) AS month, Date, Booster_Version, Landing_Outcome FROM SPACEXTBL WHERE substr(Date,7,4)= '2015' AND Landing_Outcome LIKE 'Failure (drone ship)%'"
      ],
      "execution_count": 56
    },
    {
      "cell_type": "markdown",
      "metadata": {
        "id": "930a3560-cc1c-4587-866a-7bde5982c648"
      },
      "source": [
        "### Task 10\n",
        "\n",
        "\n",
        "\n",
        "\n",
        "##### Rank the  count of  successful landing_outcomes between the date 04-06-2010 and 20-03-2017 in descending order.\n"
      ]
    },
    {
      "cell_type": "code",
      "metadata": {
        "id": "d876bcee-cb59-42c0-a747-95560ef3f892",
        "colab": {
          "base_uri": "https://localhost:8080/",
          "height": 74
        },
        "outputId": "949e287a-949d-4a8a-9acd-adab7eeac2a7"
      },
      "outputs": [
        {
          "output_type": "stream",
          "name": "stdout",
          "text": [
            " * sqlite:///my_data1.db\n",
            "Done.\n"
          ]
        },
        {
          "output_type": "execute_result",
          "data": {
            "text/plain": [
              "[]"
            ],
            "text/html": [
              "<table>\n",
              "    <tr>\n",
              "        <th>Landing_Outcome</th>\n",
              "        <th>Date</th>\n",
              "        <th>successful_landing_outcomes</th>\n",
              "    </tr>\n",
              "</table>"
            ]
          },
          "metadata": {},
          "execution_count": 65
        }
      ],
      "source": [
        "%%sql\n",
        "SELECT Landing_Outcome, Date, count(*) AS successful_landing_outcomes FROM SPACEXTBL\n",
        "WHERE Date BETWEEN '2010-06-04' AND '2017-03-20' AND Landing_Outcome LIKE 'Success%' GROUP BY Landing_Outcome ORDER BY successful_landing_outcomes DESC"
      ],
      "execution_count": 65
    },
    {
      "cell_type": "markdown",
      "metadata": {
        "id": "48ad1afc-59f0-47a6-ae2e-7b6ff90999dc"
      },
      "source": [
        "### Reference Links\n",
        "\n",
        "* <a href =\"https://cf-courses-data.s3.us.cloud-object-storage.appdomain.cloud/IBMDeveloperSkillsNetwork-DB0201EN-SkillsNetwork/labs/Labs_Coursera_V5/labs/Lab%20-%20String%20Patterns%20-%20Sorting%20-%20Grouping/instructional-labs.md.html?origin=www.coursera.org\">Hands-on Lab : String Patterns, Sorting and Grouping</a>\n",
        "\n",
        "*  <a  href=\"https://cf-courses-data.s3.us.cloud-object-storage.appdomain.cloud/IBMDeveloperSkillsNetwork-DB0201EN-SkillsNetwork/labs/Labs_Coursera_V5/labs/Lab%20-%20Built-in%20functions%20/Hands-on_Lab__Built-in_Functions.md.html?origin=www.coursera.org\">Hands-on Lab: Built-in functions</a>\n",
        "\n",
        "*  <a  href=\"https://cf-courses-data.s3.us.cloud-object-storage.appdomain.cloud/IBMDeveloperSkillsNetwork-DB0201EN-SkillsNetwork/labs/Labs_Coursera_V5/labs/Lab%20-%20Sub-queries%20and%20Nested%20SELECTs%20/instructional-labs.md.html?origin=www.coursera.org\">Hands-on Lab : Sub-queries and Nested SELECT Statements</a>\n",
        "\n",
        "*   <a href=\"https://cf-courses-data.s3.us.cloud-object-storage.appdomain.cloud/IBMDeveloperSkillsNetwork-DB0201EN-SkillsNetwork/labs/Module%205/DB0201EN-Week3-1-3-SQLmagic.ipynb\">Hands-on Tutorial: Accessing Databases with SQL magic</a>\n",
        "\n",
        "*  <a href= \"https://cf-courses-data.s3.us.cloud-object-storage.appdomain.cloud/IBMDeveloperSkillsNetwork-DB0201EN-SkillsNetwork/labs/Module%205/DB0201EN-Week3-1-4-Analyzing.ipynb\">Hands-on Lab: Analyzing a real World Data Set</a>\n",
        "\n",
        "\n"
      ]
    },
    {
      "cell_type": "markdown",
      "metadata": {
        "id": "ec1c809f-d209-41d5-8b22-76f7cd59bb53"
      },
      "source": [
        "## Author(s)\n",
        "\n",
        "<h4> Lakshmi Holla </h4>\n"
      ]
    },
    {
      "cell_type": "markdown",
      "metadata": {
        "id": "bce3d843-e6cc-49de-a788-a31a3de09872"
      },
      "source": [
        "## Other Contributors\n",
        "\n",
        "<h4> Rav Ahuja </h4>\n"
      ]
    },
    {
      "cell_type": "markdown",
      "metadata": {
        "id": "2a98a3d8-e49d-496a-bc70-e7f473580c66"
      },
      "source": [
        "## Change log\n",
        "| Date | Version | Changed by | Change Description |\n",
        "|------|--------|--------|---------|\n",
        "| 2021-07-09 | 0.2 |Lakshmi Holla | Changes made in magic sql|\n",
        "| 2021-05-20 | 0.1 |Lakshmi Holla | Created Initial Version |\n"
      ]
    },
    {
      "cell_type": "markdown",
      "metadata": {
        "id": "76a7ca44-fa0a-45b7-a6bd-a8a4f0df1eec"
      },
      "source": [
        "## <h3 align=\"center\"> © IBM Corporation 2021. All rights reserved. <h3/>\n"
      ]
    }
  ],
  "metadata": {
    "kernelspec": {
      "display_name": "Python 3",
      "name": "python3"
    },
    "language_info": {
      "name": "python"
    },
    "colab": {
      "provenance": []
    }
  },
  "nbformat": 4,
  "nbformat_minor": 0
}