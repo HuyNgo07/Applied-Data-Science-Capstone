{
  "metadata": {
    "language_info": {
      "name": "python"
    },
    "kernelspec": {
      "name": "python3",
      "display_name": "Python 3"
    },
    "colab": {
      "provenance": []
    }
  },
  "nbformat_minor": 0,
  "nbformat": 4,
  "cells": [
    {
      "cell_type": "markdown",
      "source": [
        "<p style=\"text-align:center\">\n",
        "    <a href=\"https://skills.network/?utm_medium=Exinfluencer&utm_source=Exinfluencer&utm_content=000026UJ&utm_term=10006555&utm_id=NA-SkillsNetwork-Channel-SkillsNetworkCoursesIBMDS0321ENSkillsNetwork26802033-2022-01-01\" target=\"_blank\">\n",
        "    <img src=\"https://cf-courses-data.s3.us.cloud-object-storage.appdomain.cloud/assets/logos/SN_web_lightmode.png\" width=\"200\" alt=\"Skills Network Logo\"  />\n",
        "    </a>\n",
        "</p>\n"
      ],
      "metadata": {
        "id": "3lTygJxEoEEP"
      }
    },
    {
      "cell_type": "markdown",
      "source": [
        "# **Launch Sites Locations Analysis with Folium**\n"
      ],
      "metadata": {
        "id": "6plMJcA4oEET"
      }
    },
    {
      "cell_type": "markdown",
      "source": [
        "Estimated time needed: **40** minutes\n"
      ],
      "metadata": {
        "id": "wzHpkzQUoEEU"
      }
    },
    {
      "cell_type": "markdown",
      "source": [
        "The launch success rate may depend on many factors such as payload mass, orbit type, and so on. It may also depend on the location and proximities of a launch site, i.e., the initial position of rocket trajectories. Finding an optimal location for building a launch site certainly involves many factors and hopefully we could discover some of the factors by analyzing the existing launch site locations.\n"
      ],
      "metadata": {
        "id": "w6hhQjhDoEEV"
      }
    },
    {
      "cell_type": "markdown",
      "source": [
        "In the previous exploratory data analysis labs, you have visualized the SpaceX launch dataset using `matplotlib` and `seaborn` and discovered some preliminary correlations between the launch site and success rates. In this lab, you will be performing more interactive visual analytics using `Folium`.\n"
      ],
      "metadata": {
        "id": "LmMGtW-ToEEW"
      }
    },
    {
      "cell_type": "markdown",
      "source": [
        "## Objectives\n"
      ],
      "metadata": {
        "id": "CtI8fyDhoEEW"
      }
    },
    {
      "cell_type": "markdown",
      "source": [
        "This lab contains the following tasks:\n",
        "\n",
        "*   **TASK 1:** Mark all launch sites on a map\n",
        "*   **TASK 2:** Mark the success/failed launches for each site on the map\n",
        "*   **TASK 3:** Calculate the distances between a launch site to its proximities\n",
        "\n",
        "After completed the above tasks, you should be able to find some geographical patterns about launch sites.\n"
      ],
      "metadata": {
        "id": "rLqzhkRGoEEX"
      }
    },
    {
      "cell_type": "markdown",
      "source": [
        "Let's first import required Python packages for this lab:\n"
      ],
      "metadata": {
        "id": "cFFUqxXHoEEX"
      }
    },
    {
      "cell_type": "code",
      "source": [
        "# import piplite\n",
        "# await piplite.install(['folium'])\n",
        "# await piplite.install(['pandas'])"
      ],
      "metadata": {
        "trusted": true,
        "id": "SR2gJa_9oEEY"
      },
      "execution_count": null,
      "outputs": []
    },
    {
      "cell_type": "code",
      "source": [
        "import folium\n",
        "import pandas as pd"
      ],
      "metadata": {
        "trusted": true,
        "id": "cpiUW3o_oEEa"
      },
      "execution_count": null,
      "outputs": []
    },
    {
      "cell_type": "code",
      "source": [
        "# Import folium MarkerCluster plugin\n",
        "from folium.plugins import MarkerCluster\n",
        "# Import folium MousePosition plugin\n",
        "from folium.plugins import MousePosition\n",
        "# Import folium DivIcon plugin\n",
        "from folium.features import DivIcon"
      ],
      "metadata": {
        "trusted": true,
        "id": "HcNbWMqioEEa"
      },
      "execution_count": null,
      "outputs": []
    },
    {
      "cell_type": "markdown",
      "source": [
        "If you need to refresh your memory about folium, you may download and refer to this previous folium lab:\n"
      ],
      "metadata": {
        "id": "F0gIu__eoEEa"
      }
    },
    {
      "cell_type": "markdown",
      "source": [
        "[Generating Maps with Python](https://cf-courses-data.s3.us.cloud-object-storage.appdomain.cloud/IBM-DS0321EN-SkillsNetwork/labs/module\\_3/DV0101EN-3-5-1-Generating-Maps-in-Python-py-v2.0.ipynb)\n"
      ],
      "metadata": {
        "id": "NIneWYgmoEEa"
      }
    },
    {
      "cell_type": "code",
      "source": [
        "## Task 1: Mark all launch sites on a map\n"
      ],
      "metadata": {
        "trusted": true,
        "id": "NAEsIzQ0oEEb"
      },
      "execution_count": null,
      "outputs": []
    },
    {
      "cell_type": "markdown",
      "source": [
        "First, let's try to add each site's location on a map using site's latitude and longitude coordinates\n"
      ],
      "metadata": {
        "id": "PISY_quloEEb"
      }
    },
    {
      "cell_type": "markdown",
      "source": [
        "The following dataset with the name `spacex_launch_geo.csv` is an augmented dataset with latitude and longitude added for each site.\n"
      ],
      "metadata": {
        "id": "I2Xb5ITfoEEb"
      }
    },
    {
      "cell_type": "code",
      "source": [
        "# Download and read the `spacex_launch_geo.csv`\n",
        "# from js import fetch\n",
        "# import io\n",
        "\n",
        "URL = 'https://cf-courses-data.s3.us.cloud-object-storage.appdomain.cloud/IBM-DS0321EN-SkillsNetwork/datasets/spacex_launch_geo.csv'\n",
        "# resp = await fetch(URL)\n",
        "# spacex_csv_file = io.BytesIO((await resp.arrayBuffer()).to_py())\n",
        "spacex_df=pd.read_csv(URL)"
      ],
      "metadata": {
        "trusted": true,
        "id": "Xk-91B-OoEEb"
      },
      "execution_count": null,
      "outputs": []
    },
    {
      "cell_type": "markdown",
      "source": [
        "Now, you can take a look at what are the coordinates for each site.\n"
      ],
      "metadata": {
        "id": "gWSjxJEPoEEb"
      }
    },
    {
      "cell_type": "code",
      "source": [
        "# Select relevant sub-columns: `Launch Site`, `Lat(Latitude)`, `Long(Longitude)`, `class`\n",
        "spacex_df = spacex_df[['Launch Site', 'Lat', 'Long', 'class']]\n",
        "launch_sites_df = spacex_df.groupby(['Launch Site'], as_index=False).first()\n",
        "launch_sites_df = launch_sites_df[['Launch Site', 'Lat', 'Long']]\n",
        "launch_sites_df"
      ],
      "metadata": {
        "trusted": true,
        "id": "_LJiabQqoEEc"
      },
      "execution_count": null,
      "outputs": []
    },
    {
      "cell_type": "markdown",
      "source": [
        "Above coordinates are just plain numbers that can not give you any intuitive insights about where are those launch sites. If you are very good at geography, you can interpret those numbers directly in your mind. If not, that's fine too. Let's visualize those locations by pinning them on a map.\n"
      ],
      "metadata": {
        "id": "4Wb8Y7ZvoEEc"
      }
    },
    {
      "cell_type": "markdown",
      "source": [
        "We first need to create a folium `Map` object, with an initial center location to be NASA Johnson Space Center at Houston, Texas.\n"
      ],
      "metadata": {
        "id": "8KO_gaHKoEEd"
      }
    },
    {
      "cell_type": "code",
      "source": [
        "# Start location is NASA Johnson Space Center\n",
        "nasa_coordinate = [29.559684888503615, -95.0830971930759]\n",
        "site_map = folium.Map(location=nasa_coordinate, zoom_start=5)"
      ],
      "metadata": {
        "trusted": true,
        "id": "246YGgBBoEEd"
      },
      "execution_count": null,
      "outputs": []
    },
    {
      "cell_type": "markdown",
      "source": [
        "We could use `folium.Circle` to add a highlighted circle area with a text label on a specific coordinate. For example,\n"
      ],
      "metadata": {
        "id": "8rUqLkivoEEd"
      }
    },
    {
      "cell_type": "code",
      "source": [
        "# Create a blue circle at NASA Johnson Space Center's coordinate with a popup label showing its name\n",
        "circle = folium.Circle(nasa_coordinate, radius=1000, color='#0000FF', fill=True).add_child(folium.Popup('NASA Johnson Space Center'))\n",
        "# Create a blue circle at NASA Johnson Space Center's coordinate with a icon showing its name\n",
        "marker = folium.map.Marker(\n",
        "    nasa_coordinate,\n",
        "    # Create an icon as a text label\n",
        "    icon=DivIcon(\n",
        "        icon_size=(20,20),\n",
        "        icon_anchor=(0,0),\n",
        "        html='<div style=\"font-size: 12; color:#0000FF;\"><b>%s</b></div>' % 'NASA JSC',\n",
        "        )\n",
        "    )\n",
        "site_map.add_child(circle)\n",
        "site_map.add_child(marker)"
      ],
      "metadata": {
        "trusted": true,
        "id": "fwQYRkVVoEEe"
      },
      "execution_count": null,
      "outputs": []
    },
    {
      "cell_type": "markdown",
      "source": [
        "and you should find a small yellow circle near the city of Houston and you can zoom-in to see a larger circle.\n"
      ],
      "metadata": {
        "id": "GeK8G4OWoEEe"
      }
    },
    {
      "cell_type": "markdown",
      "source": [
        "Now, let's add a circle for each launch site in data frame `launch_sites`\n"
      ],
      "metadata": {
        "id": "wchyQgVuoEEe"
      }
    },
    {
      "cell_type": "markdown",
      "source": [
        "*TODO:*  Create and add `folium.Circle` and `folium.Marker` for each launch site on the site map\n"
      ],
      "metadata": {
        "id": "_UZ7_HrLoEEf"
      }
    },
    {
      "cell_type": "markdown",
      "source": [
        "An example of folium.Circle:\n"
      ],
      "metadata": {
        "id": "Ub_0hzCSoEEf"
      }
    },
    {
      "cell_type": "markdown",
      "source": [
        "`folium.Circle(coordinate, radius=1000, color='#000000', fill=True).add_child(folium.Popup(...))`\n"
      ],
      "metadata": {
        "id": "Q9Jmn4_3oEEf"
      }
    },
    {
      "cell_type": "markdown",
      "source": [
        "An example of folium.Marker:\n"
      ],
      "metadata": {
        "id": "0zfD6uIqoEEf"
      }
    },
    {
      "cell_type": "markdown",
      "source": [
        "`folium.map.Marker(coordinate, icon=DivIcon(icon_size=(20,20),icon_anchor=(0,0), html='<div style=\"font-size: 12; color:#d35400;\"><b>%s</b></div>' % 'label', ))`\n"
      ],
      "metadata": {
        "id": "toZmTx4IoEEf"
      }
    },
    {
      "cell_type": "code",
      "source": [
        "# Initial the map\n",
        "# site_map = folium.Map(location=nasa_coordinate, zoom_start=5)\n",
        "# For each launch site, add a Circle object based on its coordinate (Lat, Long) values. In addition, add Launch site name as a popup label\n",
        "for index, row in launch_sites_df.iterrows():\n",
        "    coordinate = [row['Lat'],row['Long']]\n",
        "    circle = folium.Circle(coordinate, radius=1000, color='#d35400', fill=True).add_child(folium.Popup(row['Launch Site']))\n",
        "    marker = folium.map.Marker(\n",
        "        coordinate,\n",
        "        icon=DivIcon(\n",
        "            icon_size=(20,20),\n",
        "            icon_anchor=(0,0),\n",
        "            html='<div style=\"font-size: 12; color:#d35400;\"><b>%s</b></div>' %row['Launch Site'],\n",
        "            )\n",
        "        )\n",
        "    site_map.add_child(circle)\n",
        "    site_map.add_child(marker)\n"
      ],
      "metadata": {
        "trusted": true,
        "id": "raZ5WNf4oEEf"
      },
      "execution_count": null,
      "outputs": []
    },
    {
      "cell_type": "code",
      "source": [
        "site_map"
      ],
      "metadata": {
        "trusted": true,
        "id": "izYMtycOoEEg"
      },
      "execution_count": null,
      "outputs": []
    },
    {
      "cell_type": "markdown",
      "source": [
        "The generated map with marked launch sites should look similar to the following:\n"
      ],
      "metadata": {
        "id": "1AbjwXeMoEEg"
      }
    },
    {
      "cell_type": "markdown",
      "source": [
        "![launch_site_markers.png](attachment:564e163a-26b1-4696-bd15-4ee12ec409dc.png)<center>\n",
        "    <img src=\"https://cf-courses-data.s3.us.cloud-object-storage.appdomain.cloud/IBM-DS0321EN-SkillsNetwork/labs/module_3/images/launch_site_markers.png\">\n",
        "</center>\n"
      ],
      "metadata": {
        "id": "VJKKvkOmoEEg"
      }
    },
    {
      "cell_type": "markdown",
      "source": [
        "Now, you can explore the map by zoom-in/out the marked areas\n",
        ", and try to answer the following questions:\n",
        "\n",
        "*   Are all launch sites in proximity to the Equator line?\n",
        "*   Are all launch sites in very close proximity to the coast?\n",
        "\n",
        "Also please try to explain your findings.\n"
      ],
      "metadata": {
        "id": "nn-KiHnkoEEg"
      }
    },
    {
      "cell_type": "code",
      "source": [
        "# Task 2: Mark the success/failed launches for each site on the map\n"
      ],
      "metadata": {
        "trusted": true,
        "id": "yxHN2n25oEEh"
      },
      "execution_count": null,
      "outputs": []
    },
    {
      "cell_type": "markdown",
      "source": [
        "Next, let's try to enhance the map by adding the launch outcomes for each site, and see which sites have high success rates.\n",
        "Recall that data frame spacex_df has detailed launch records, and the `class` column indicates if this launch was successful or not\n"
      ],
      "metadata": {
        "id": "AAepFm0OoEEh"
      }
    },
    {
      "cell_type": "code",
      "source": [
        "spacex_df.tail(10)"
      ],
      "metadata": {
        "trusted": true,
        "id": "mYyulmLBoEEh"
      },
      "execution_count": null,
      "outputs": []
    },
    {
      "cell_type": "markdown",
      "source": [
        "Next, let's create markers for all launch records.\n",
        "If a launch was successful `(class=1)`, then we use a green marker and if a launch was failed, we use a red marker `(class=0)`\n"
      ],
      "metadata": {
        "id": "v8nZSJmloEEh"
      }
    },
    {
      "cell_type": "markdown",
      "source": [
        "Note that a launch only happens in one of the four launch sites, which means many launch records will have the exact same coordinate. Marker clusters can be a good way to simplify a map containing many markers having the same coordinate.\n"
      ],
      "metadata": {
        "id": "XGklHNt1oEEi"
      }
    },
    {
      "cell_type": "markdown",
      "source": [
        "Let's first create a `MarkerCluster` object\n"
      ],
      "metadata": {
        "id": "FbGuDgMvoEEi"
      }
    },
    {
      "cell_type": "code",
      "source": [
        "marker_cluster = MarkerCluster()\n"
      ],
      "metadata": {
        "trusted": true,
        "id": "ImDxxy7IoEEi"
      },
      "execution_count": null,
      "outputs": []
    },
    {
      "cell_type": "markdown",
      "source": [
        "*TODO:* Create a new column in `launch_sites` dataframe called `marker_color` to store the marker colors based on the `class` value\n"
      ],
      "metadata": {
        "id": "T5ZTy_Q8oEEi"
      }
    },
    {
      "cell_type": "code",
      "source": [
        "\n",
        "# Apply a function to check the value of `class` column\n",
        "# If class=1, marker_color value will be green\n",
        "# If class=0, marker_color value will be red\n",
        "spacex_df['marker_color'] = spacex_df['class'].apply(lambda x: 'green' if x == 1 else 'red')"
      ],
      "metadata": {
        "trusted": true,
        "id": "mVFLYTnYoEEi"
      },
      "execution_count": null,
      "outputs": []
    },
    {
      "cell_type": "code",
      "source": [
        "spacex_df.tail()"
      ],
      "metadata": {
        "id": "vfTIalvKvOjL"
      },
      "execution_count": null,
      "outputs": []
    },
    {
      "cell_type": "markdown",
      "source": [
        "*TODO:* For each launch result in `spacex_df` data frame, add a `folium.Marker` to `marker_cluster`\n"
      ],
      "metadata": {
        "id": "RWcYJw_ioEEj"
      }
    },
    {
      "cell_type": "code",
      "source": [
        "# Add marker_cluster to current site_map\n",
        "site_map.add_child(marker_cluster)\n",
        "\n",
        "# for each row in spacex_df data frame\n",
        "# create a Marker object with its coordinate\n",
        "# and customize the Marker's icon property to indicate if this launch was successed or failed,\n",
        "# e.g., icon=folium.Icon(color='white', icon_color=row['marker_color']\n",
        "for index,row in spacex_df.iterrows():\n",
        "    coordinate = [row['Lat'],row['Long']]\n",
        "    marker = folium.map.Marker(\n",
        "        coordinate,\n",
        "        icon=folium.Icon(color='white', icon_color=row['marker_color']\n",
        "            )\n",
        "        )\n",
        "    marker_cluster.add_child(marker)\n"
      ],
      "metadata": {
        "trusted": true,
        "id": "FTve26OToEEj"
      },
      "execution_count": null,
      "outputs": []
    },
    {
      "cell_type": "code",
      "source": [
        "site_map"
      ],
      "metadata": {
        "id": "4-dkA9AkvvDc"
      },
      "execution_count": null,
      "outputs": []
    },
    {
      "cell_type": "markdown",
      "source": [
        "Your updated map may look like the following screenshots:\n"
      ],
      "metadata": {
        "id": "UK553LlYoEEj"
      }
    },
    {
      "cell_type": "markdown",
      "source": [
        "<center>\n",
        "    <img src=\"https://cf-courses-data.s3.us.cloud-object-storage.appdomain.cloud/IBM-DS0321EN-SkillsNetwork/labs/module_3/images/launch_site_marker_cluster.png\">\n",
        "</center>\n"
      ],
      "metadata": {
        "id": "O81gNZsDoEEj"
      }
    },
    {
      "cell_type": "markdown",
      "source": [
        "![launch_site_marker_cluster_zoomed.png](attachment:91b487ab-7465-41bb-9d1e-2db52e0ca246.png)![launch_site_marker_cluster_zoomed.png](attachment:c111be3c-37f9-48a8-9459-c6418134b1ea.png)<center>\n",
        "    <img src=\"https://cf-courses-data.s3.us.cloud-object-storage.appdomain.cloud/IBM-DS0321EN-SkillsNetwork/labs/module_3/images/launch_site_marker_cluster_zoomed.png\">\n",
        "</center>\n"
      ],
      "metadata": {
        "id": "Q1NmwbBboEEk"
      }
    },
    {
      "cell_type": "markdown",
      "source": [
        "From the color-labeled markers in marker clusters, you should be able to easily identify which launch sites have relatively high success rates.\n"
      ],
      "metadata": {
        "id": "sKtRER3PoEEk"
      }
    },
    {
      "cell_type": "code",
      "source": [
        "# TASK 3: Calculate the distances between a launch site to its proximities\n"
      ],
      "metadata": {
        "trusted": true,
        "id": "m-pjcs1_oEEk"
      },
      "execution_count": null,
      "outputs": []
    },
    {
      "cell_type": "markdown",
      "source": [
        "Next, we need to explore and analyze the proximities of launch sites.\n"
      ],
      "metadata": {
        "id": "WTFr0inroEEk"
      }
    },
    {
      "cell_type": "markdown",
      "source": [
        "Let's first add a `MousePosition` on the map to get coordinate for a mouse over a point on the map. As such, while you are exploring the map, you can easily find the coordinates of any points of interests (such as railway)\n"
      ],
      "metadata": {
        "id": "ahZaAgOBoEEk"
      }
    },
    {
      "cell_type": "code",
      "source": [
        "# Add Mouse Position to get the coordinate (Lat, Long) for a mouse over on the map\n",
        "formatter = \"function(num) {return L.Util.formatNum(num, 5);};\"\n",
        "mouse_position = MousePosition(\n",
        "    position='topright',\n",
        "    separator=' Long: ',\n",
        "    empty_string='NaN',\n",
        "    lng_first=False,\n",
        "    num_digits=20,\n",
        "    prefix='Lat:',\n",
        "    lat_formatter=formatter,\n",
        "    lng_formatter=formatter,\n",
        ")\n",
        "\n",
        "site_map.add_child(mouse_position)"
      ],
      "metadata": {
        "trusted": true,
        "id": "V7wJ6URQoEEl"
      },
      "execution_count": null,
      "outputs": []
    },
    {
      "cell_type": "markdown",
      "source": [
        "Now zoom in to a launch site and explore its proximity to see if you can easily find any railway, highway, coastline, etc. Move your mouse to these points and mark down their coordinates (shown on the top-left) in order to the distance to the launch site.\n"
      ],
      "metadata": {
        "id": "qzWWPyqdoEEl"
      }
    },
    {
      "cell_type": "markdown",
      "source": [
        "Now zoom in to a launch site and explore its proximity to see if you can easily find any railway, highway, coastline, etc. Move your mouse to these points and mark down their coordinates (shown on the top-left) in order to the distance to the launch site.\n"
      ],
      "metadata": {
        "id": "f06I6fzaoEEl"
      }
    },
    {
      "cell_type": "code",
      "source": [
        "from math import sin, cos, sqrt, atan2, radians\n",
        "\n",
        "def calculate_distance(lat1, lon1, lat2, lon2):\n",
        "    # approximate radius of earth in km\n",
        "    R = 6373.0\n",
        "\n",
        "    lat1 = radians(lat1)\n",
        "    lon1 = radians(lon1)\n",
        "    lat2 = radians(lat2)\n",
        "    lon2 = radians(lon2)\n",
        "\n",
        "    dlon = lon2 - lon1\n",
        "    dlat = lat2 - lat1\n",
        "\n",
        "    a = sin(dlat / 2)**2 + cos(lat1) * cos(lat2) * sin(dlon / 2)**2\n",
        "    c = 2 * atan2(sqrt(a), sqrt(1 - a))\n",
        "\n",
        "    distance = R * c\n",
        "    return distance"
      ],
      "metadata": {
        "trusted": true,
        "id": "VZHvz65noEEm"
      },
      "execution_count": null,
      "outputs": []
    },
    {
      "cell_type": "markdown",
      "source": [
        "*TODO:* Mark down a point on the closest coastline using MousePosition and calculate the distance between the coastline point and the launch site.\n"
      ],
      "metadata": {
        "id": "f0btI3IaoEEm"
      }
    },
    {
      "cell_type": "code",
      "source": [
        "launch_sites_df"
      ],
      "metadata": {
        "id": "UgCk2pEtyZUE"
      },
      "execution_count": null,
      "outputs": []
    },
    {
      "cell_type": "code",
      "source": [
        "# find coordinate of the closet coastline\n",
        "# e.g.,: Lat: 28.56367  Lon: -80.57163\n",
        "# distance_coastline = calculate_distance(launch_site_lat, launch_site_lon, coastline_lat, coastline_lon)\n",
        "\n",
        "\n",
        "coastline_lat = 28.56372\n",
        "coastline_lon = -80.56799\n",
        "closet_launch_dis = 100000\n",
        "\n",
        "for _, row in launch_sites_df.iterrows():\n",
        "  distance_coastline = calculate_distance(row['Lat'], row['Long'], coastline_lat, coastline_lon)\n",
        "  if distance_coastline < closet_launch_dis:\n",
        "    launch_site_coor = [row['Lat'], row['Long']]\n",
        "    closet_launch_dis = distance_coastline\n",
        "\n",
        "print(closet_launch_dis)\n",
        "print(launch_site_coor)"
      ],
      "metadata": {
        "trusted": true,
        "id": "GkGONoBroEEn"
      },
      "execution_count": null,
      "outputs": []
    },
    {
      "cell_type": "code",
      "source": [
        "# Create and add a folium.Marker on your selected closest coastline point on the map\n",
        "# Display the distance between coastline point and launch site using the icon property\n",
        "# for example\n",
        "# distance_marker = folium.Marker(\n",
        "#    coordinate,\n",
        "#    icon=DivIcon(\n",
        "#        icon_size=(20,20),\n",
        "#        icon_anchor=(0,0),\n",
        "#        html='<div style=\"font-size: 12; color:#d35400;\"><b>%s</b></div>' % \"{:10.2f} KM\".format(distance),\n",
        "#        )\n",
        "#    )\n",
        "\n",
        "coastline_coor = [coastline_lat, coastline_lon]\n",
        "distance_marker = folium.Marker(\n",
        "   coastline_coor,\n",
        "   icon=DivIcon(\n",
        "       icon_size=(20,20),\n",
        "       icon_anchor=(0,0),\n",
        "       html='<div style=\"font-size: 12; color:#d35400;\"><b>%s</b></div>' % \"{:10.2f} KM\".format(closet_launch_dis),\n",
        "       )\n",
        "   )\n",
        "site_map.add_child(distance_marker)"
      ],
      "metadata": {
        "trusted": true,
        "id": "SWWkx_KRoEEo"
      },
      "execution_count": null,
      "outputs": []
    },
    {
      "cell_type": "markdown",
      "source": [
        "*TODO:* Draw a `PolyLine` between a launch site to the selected coastline point\n"
      ],
      "metadata": {
        "id": "mM1TA8pWoEEp"
      }
    },
    {
      "cell_type": "code",
      "source": [
        "# Create a `folium.PolyLine` object using the coastline coordinates and launch site coordinate\n",
        "# lines=folium.PolyLine(locations=coordinates, weight=1)\n",
        "coordinates = [launch_site_coor,coastline_coor]\n",
        "lines=folium.PolyLine(locations=coordinates, weight=4)\n",
        "site_map.add_child(lines)"
      ],
      "metadata": {
        "trusted": true,
        "id": "V5m-aGzQoEEp"
      },
      "execution_count": null,
      "outputs": []
    },
    {
      "cell_type": "markdown",
      "source": [
        "Your updated map with distance line should look like the following screenshot:\n"
      ],
      "metadata": {
        "id": "DztPWyLioEEq"
      }
    },
    {
      "cell_type": "markdown",
      "source": [
        "<center>\n",
        "    <img src=\"https://cf-courses-data.s3.us.cloud-object-storage.appdomain.cloud/IBM-DS0321EN-SkillsNetwork/labs/module_3/images/launch_site_marker_distance.png\">\n",
        "</center>\n"
      ],
      "metadata": {
        "id": "A8qsPbjzoEEq"
      }
    },
    {
      "cell_type": "markdown",
      "source": [
        "*TODO:* Similarly, you can draw a line betwee a launch site to its closest city, railway, highway, etc. You need to use `MousePosition` to find the their coordinates on the map first\n"
      ],
      "metadata": {
        "id": "LkIHAa8hoEEr"
      }
    },
    {
      "cell_type": "markdown",
      "source": [
        "A railway map symbol may look like this:\n"
      ],
      "metadata": {
        "id": "s5K0CSPUoEEr"
      }
    },
    {
      "cell_type": "markdown",
      "source": [
        "<center>\n",
        "    <img src=\"https://cf-courses-data.s3.us.cloud-object-storage.appdomain.cloud/IBM-DS0321EN-SkillsNetwork/labs/module_3/images/railway.png\">\n",
        "</center>\n"
      ],
      "metadata": {
        "id": "jAkTh0icoEEr"
      }
    },
    {
      "cell_type": "markdown",
      "source": [
        "A highway map symbol may look like this:\n"
      ],
      "metadata": {
        "id": "mbzq3txHoEEr"
      }
    },
    {
      "cell_type": "markdown",
      "source": [
        "<center>\n",
        "    <img src=\"https://cf-courses-data.s3.us.cloud-object-storage.appdomain.cloud/IBM-DS0321EN-SkillsNetwork/labs/module_3/images/highway.png\">\n",
        "</center>\n"
      ],
      "metadata": {
        "id": "eaz6d1h1oEEs"
      }
    },
    {
      "cell_type": "markdown",
      "source": [
        "A city map symbol may look like this:\n"
      ],
      "metadata": {
        "id": "gxdfkasBoEEs"
      }
    },
    {
      "cell_type": "markdown",
      "source": [
        "<center>\n",
        "    <img src=\"https://cf-courses-data.s3.us.cloud-object-storage.appdomain.cloud/IBM-DS0321EN-SkillsNetwork/labs/module_3/images/city.png\">\n",
        "</center>\n"
      ],
      "metadata": {
        "id": "yydbnHyIoEEs"
      }
    },
    {
      "cell_type": "code",
      "source": [
        "# Create a marker with distance to a closest city, railway, highway, etc.\n",
        "# Draw a line between the marker to the launch site\n",
        "coors = [[28.56454, -80.58723],[28.52569, -80.69186],[28.39971, -80.6027]]\n",
        "\n",
        "for coor in coors:\n",
        "    distance = calculate_distance(coor[0], coor[1], launch_site_coor[0], launch_site_coor[1])\n",
        "    marker = folium.Marker(\n",
        "        coor,\n",
        "        icon=folium.DivIcon(\n",
        "            icon_size=(20, 20),\n",
        "            icon_anchor=(0, 0),\n",
        "            html='<div style=\"font-size: 12; color:#d35400;\"><b>%s</b></div>' % \"{:10.2f} KM\".format(distance),\n",
        "        )\n",
        "    )\n",
        "    line = folium.PolyLine([coor, launch_site_coor], weight=4)\n",
        "    site_map.add_child(marker)\n",
        "    site_map.add_child(line)"
      ],
      "metadata": {
        "trusted": true,
        "id": "MpWi8zKCoEEt"
      },
      "execution_count": null,
      "outputs": []
    },
    {
      "cell_type": "code",
      "source": [
        "site_map"
      ],
      "metadata": {
        "id": "kN179UqxoEEt"
      },
      "execution_count": null,
      "outputs": []
    },
    {
      "cell_type": "markdown",
      "source": [
        "After you plot distance lines to the proximities, you can answer the following questions easily:\n",
        "\n",
        "*   Are launch sites in close proximity to railways?\n",
        "*   Are launch sites in close proximity to highways?\n",
        "*   Are launch sites in close proximity to coastline?\n",
        "*   Do launch sites keep certain distance away from cities?\n",
        "\n",
        "Also please try to explain your findings.\n"
      ],
      "metadata": {
        "id": "QqwFNnuboEEu"
      }
    },
    {
      "cell_type": "markdown",
      "source": [
        "# Next Steps:\n",
        "\n",
        "Now you have discovered many interesting insights related to the launch sites' location using folium, in a very interactive way. Next, you will need to build a dashboard using Ploty Dash on detailed launch records.\n"
      ],
      "metadata": {
        "id": "-CDAtFnIoEEu"
      }
    },
    {
      "cell_type": "markdown",
      "source": [
        "## Authors\n"
      ],
      "metadata": {
        "id": "R3XbFBOHoEEu"
      }
    },
    {
      "cell_type": "markdown",
      "source": [
        "[Pratiksha Verma](https://www.linkedin.com/in/pratiksha-verma-6487561b1/?utm_medium=Exinfluencer&utm_source=Exinfluencer&utm_content=000026UJ&utm_term=10006555&utm_id=NA-SkillsNetwork-Channel-SkillsNetworkCoursesIBMDS0321ENSkillsNetwork865-2022-01-01)\n"
      ],
      "metadata": {
        "id": "BQ1dZCkuoEEu"
      }
    },
    {
      "cell_type": "markdown",
      "source": [
        "## Change Log\n"
      ],
      "metadata": {
        "id": "AqFESHj6oEEu"
      }
    },
    {
      "cell_type": "markdown",
      "source": [
        "| Date (YYYY-MM-DD) | Version | Changed By      | Change Description      |\n",
        "| ----------------- | ------- | -------------   | ----------------------- |\n",
        "| 2022-11-09        | 1.0     | Pratiksha Verma | Converted initial version to Jupyterlite|\n"
      ],
      "metadata": {
        "id": "T21CJA0goEEv"
      }
    },
    {
      "cell_type": "markdown",
      "source": [
        "### <h3 align=\"center\"> IBM Corporation 2022. All rights reserved. <h3/>\n"
      ],
      "metadata": {
        "id": "7rwaPeS4oEEv"
      }
    }
  ]
}